{
 "cells": [
  {
   "cell_type": "code",
   "execution_count": 1,
   "id": "1dcabe96",
   "metadata": {},
   "outputs": [],
   "source": [
    "import pandas as pd\n",
    "import numpy as np\n",
    "import torch\n",
    "import torchvision\n",
    "#import torch.utils.data as data_utils\n",
    "from torchvision import transforms\n",
    "from torch.utils.data import DataLoader, Dataset\n",
    "\n",
    "if torch.cuda.is_available():\n",
    "    device=torch.device('cuda')\n",
    "    num_workers = 2\n",
    "else:\n",
    "    device=torch.device('cpu')\n",
    "    num_workers = 0\n",
    "    "
   ]
  },
  {
   "cell_type": "code",
   "execution_count": 2,
   "id": "e7a0d0ac",
   "metadata": {},
   "outputs": [
    {
     "name": "stdout",
     "output_type": "stream",
     "text": [
      "Files already downloaded and verified\n",
      "50000\n"
     ]
    }
   ],
   "source": [
    "# access data from torchvision datasets\n",
    "import torch\n",
    "import torchvision\n",
    "from torchvision import transforms\n",
    "\n",
    "transform = transforms.Compose([\n",
    "    transforms.ToTensor()\n",
    "])\n",
    "\n",
    "trainset = torchvision.datasets.CIFAR10(root='./vision', train=True, download=True, transform=transform)\n",
    "trainloader = DataLoader(trainset, batch_size=1, shuffle=True, num_workers=0)\n",
    "\n",
    "print(len(trainset))"
   ]
  },
  {
   "cell_type": "code",
   "execution_count": 3,
   "id": "61f4be9b",
   "metadata": {},
   "outputs": [
    {
     "name": "stdout",
     "output_type": "stream",
     "text": [
      "10\n"
     ]
    }
   ],
   "source": [
    "# Input data is in data folder (like image files in specific location)\n",
    "from torch.utils.data import DataLoader, Dataset\n",
    "import os\n",
    "from PIL import Image\n",
    "\n",
    "root = './data/images/'\n",
    "batch_size = 4\n",
    "transform = transforms.Compose([transforms.CenterCrop(48),\n",
    "                                transforms.Resize(64),\n",
    "                                transforms.ToTensor()])\n",
    "\n",
    "class ImageData(Dataset):\n",
    "    \"\"\"\n",
    "    Wrap the data into a Dataset class, and then pass it to the DataLoader\n",
    "    :__init__: Initialization data\n",
    "    :__getitem__: support the indexing such that dataset[i] can be used to get ith sample\n",
    "    :__len__: return the size of the dataset.\n",
    "    \"\"\"\n",
    "    def __init__(self, root, transform=None):\n",
    "        self.frame = os.listdir(root)\n",
    "        self.transform = transform\n",
    "        self.root = root\n",
    "    \n",
    "    def __getitem__(self, index):\n",
    "        image_name = self.frame[index]\n",
    "        image = Image.open(os.path.join(root, image_name))\n",
    "\n",
    "        if self.transform:\n",
    "            image = self.transform(image)\n",
    "            \n",
    "        return image\n",
    "        \n",
    "    def __len__(self):\n",
    "        return len(self.frame)\n",
    "\n",
    "    \n",
    "trainset = ImageData(root, transform=transform)\n",
    "trainloader = DataLoader(trainset, batch_size, shuffle=True, num_workers=num_workers)\n",
    "\n",
    "print(len(trainset))"
   ]
  },
  {
   "cell_type": "code",
   "execution_count": 4,
   "id": "231ca734",
   "metadata": {},
   "outputs": [
    {
     "name": "stdout",
     "output_type": "stream",
     "text": [
      "tensor([[7],\n",
      "        [2],\n",
      "        [3]])\n",
      "tensor([[9],\n",
      "        [5],\n",
      "        [6]])\n",
      "tensor([[8]])\n"
     ]
    }
   ],
   "source": [
    "# Input data is in a csv(similar) file\n",
    "\n",
    "import torch\n",
    "\n",
    "FILEPATH = './data/data.csv'\n",
    "batch_size = 3\n",
    "\n",
    "df = pd.read_csv(FILEPATH, sep=',')\n",
    "\n",
    "target = torch.tensor(df['y'].values)\n",
    "features = torch.tensor(df.drop('y', axis = 1).values)\n",
    "\n",
    "trainDataset = torch.utils.data.TensorDataset(features, target)\n",
    "trainLoader = torch.utils.data.DataLoader(trainDataset, batch_size=batch_size, shuffle=True)\n",
    "\n",
    "for x,y in trainLoader:\n",
    "    print(x)"
   ]
  },
  {
   "cell_type": "code",
   "execution_count": 5,
   "id": "6dfa4087",
   "metadata": {},
   "outputs": [
    {
     "name": "stdout",
     "output_type": "stream",
     "text": [
      "tensor([6])\n",
      "tensor([3])\n",
      "tensor([8])\n",
      "tensor([2])\n",
      "tensor([5])\n",
      "tensor([9])\n",
      "tensor([7])\n"
     ]
    }
   ],
   "source": [
    "# data in memory \n",
    "\n",
    "x = [6,3,8,2,5,9,7]\n",
    "y = [1,0,1,0,0,1,1]\n",
    "\n",
    "data = [*zip(x,y)]\n",
    "\n",
    "dataloader = torch.utils.data.DataLoader(data)\n",
    "\n",
    "for features, targets in dataloader:\n",
    "    print(features)\n"
   ]
  },
  {
   "cell_type": "code",
   "execution_count": 6,
   "id": "d8ddf7c9",
   "metadata": {},
   "outputs": [
    {
     "data": {
      "image/png": "[encoded data removed]",
      "text/plain": [
       "<Figure size 432x360 with 1 Axes>"
      ]
     },
     "metadata": {
      "needs_background": "light"
     },
     "output_type": "display_data"
    }
   ],
   "source": [
    "import numpy as np\n",
    "import matplotlib.pyplot as plt\n",
    "import seaborn as sns\n",
    "import pandas as pd\n",
    "import torch.nn as nn\n",
    "%matplotlib inline\n",
    "\n",
    "# create sample datasets for linear regression\n",
    "a = 2 \n",
    "b = 3 \n",
    "x = np.random.rand(256)\n",
    "noise = np.random.randn(256) * 0.2\n",
    "y = x * a + b + noise\n",
    "\n",
    "#df = pd.DataFrame({'x':x, 'y':y})\n",
    "#sns.lmplot(x ='x', y ='y', data = df)\n",
    "\n",
    "x_train = x.reshape(-1, 1).astype('float32')\n",
    "y_train = y.reshape(-1, 1).astype('float32')\n",
    "\n",
    "data = [*zip(x_train, y_train)]\n",
    "dataloader = torch.utils.data.DataLoader(data)\n",
    "\n",
    "class LinearRegression(nn.Module):\n",
    "    def __init__(self, in_, out_):\n",
    "        super(LinearRegression, self).__init__()\n",
    "        self.linear = nn.Linear(in_, out_)\n",
    "\n",
    "    def forward(self, x):\n",
    "        return self.linear(x)\n",
    "    \n",
    "def get_param_values(NET):\n",
    "    w, b = NET.parameters()\n",
    "    return w.data[0][0].item(), b.data[0].item()\n",
    "\n",
    "def plot_fit(title = \"\"):\n",
    "    plt.figure(figsize = (6,5))\n",
    "    plt.title(title)\n",
    "    plt.scatter(x, y, s = 8)\n",
    "    x1 = np.array([0., 1.])\n",
    "    w1, b1 = get_param_values(model)\n",
    "    y1 = x1 * w1 + b1\n",
    "    plt.plot(x1, y1, 'r', label = 'Fit (Slope: {:.3f}, Intercept: {:.3f})'.format(w1, b1))\n",
    "    plt.xlabel('input')\n",
    "    plt.ylabel('output')\n",
    "    plt.legend()\n",
    "    plt.show()\n",
    "\n",
    "\n",
    "model = LinearRegression(x_train.shape[1], y_train.shape[1])\n",
    "criterion = nn.MSELoss()\n",
    "optimizer = torch.optim.SGD(model.parameters(), lr = 0.01)\n",
    "\n",
    "plot_fit('Before training')"
   ]
  },
  {
   "cell_type": "code",
   "execution_count": 7,
   "id": "0e8dcb41",
   "metadata": {},
   "outputs": [
    {
     "name": "stdout",
     "output_type": "stream",
     "text": [
      "epoch 1: loss = 0.00197\n",
      "epoch 2: loss = 0.00160\n",
      "epoch 3: loss = 0.00168\n",
      "epoch 4: loss = 0.00173\n",
      "epoch 5: loss = 0.00177\n",
      "epoch 6: loss = 0.00180\n",
      "epoch 7: loss = 0.00182\n",
      "epoch 8: loss = 0.00183\n",
      "epoch 9: loss = 0.00184\n",
      "epoch 10: loss = 0.00185\n"
     ]
    },
    {
     "data": {
      "image/png": "[encoded data removed]",
      "text/plain": [
       "<Figure size 432x360 with 1 Axes>"
      ]
     },
     "metadata": {
      "needs_background": "light"
     },
     "output_type": "display_data"
    }
   ],
   "source": [
    "# training\n",
    "for epoch in range(10):    \n",
    "    for features, target in dataloader:\n",
    "        model.zero_grad()\n",
    "        yhat = model(features)\n",
    "        loss = criterion(target, yhat)\n",
    "        loss.backward()\n",
    "        optimizer.step()\n",
    "    print('epoch {}: loss = {:.5f}'.format(epoch+1, loss.item()))\n",
    "        \n",
    "plot_fit(\"After training\")  "
   ]
  },
  {
   "cell_type": "code",
   "execution_count": null,
   "id": "8c56d073",
   "metadata": {},
   "outputs": [],
   "source": []
  }
 ],
 "metadata": {
  "kernelspec": {
   "display_name": "Python 3 (ipykernel)",
   "language": "python",
   "name": "python3"
  },
  "language_info": {
   "codemirror_mode": {
    "name": "ipython",
    "version": 3
   },
   "file_extension": ".py",
   "mimetype": "text/x-python",
   "name": "python",
   "nbconvert_exporter": "python",
   "pygments_lexer": "ipython3",
   "version": "3.7.3"
  }
 },
 "nbformat": 4,
 "nbformat_minor": 5
}
